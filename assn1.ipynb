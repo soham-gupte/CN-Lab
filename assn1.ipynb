{
 "cells": [
  {
   "cell_type": "markdown",
   "metadata": {},
   "source": [
    "Assignment 1\n",
    "Write a program as follows\n",
    "- Select the class (A, B, C)\n",
    "- Then print the subnet Mask of that particular class selected\n",
    "- Enter the IP address\n",
    "- print\n",
    "     1. Number of subnets will be created.\n",
    "     2. Number of hosts per subnet.\n",
    "     3. Network id and broad cast id of each network.\n",
    "     4. Range of subnet mask of that particular class selected."
   ]
  },
  {
   "cell_type": "code",
   "execution_count": null,
   "metadata": {},
   "outputs": [],
   "source": [
    "while True :\n",
    "    print(\"What would you like to do?\")\n",
    "    print(\"1 - Execute the program\")\n",
    "    print(\"0 - Exit the program\")\n",
    "    try :\n",
    "        choice = int(input(\"Enter your choice\"))\n",
    "    except :\n",
    "        print(\"Invalid input, please try again!\")\n",
    "    # Select from classes A, B and C\n",
    "    if (choice == 1) :\n",
    "        choice = input(\"Enter class name: \")\n",
    "        print(\"To enter the subnet mask, only enter the number and NOT the / character\")\n",
    "        if (choice == \"A\") :\n",
    "            subnet_mask = input(\"Enter subnet mask (between /24 and /31)\")\n",
    "        elif (choice == \"B\") :\n",
    "            subnet_mask = input(\"Enter subnet mask (between /16 and /)\")\n"
   ]
  }
 ],
 "metadata": {
  "kernelspec": {
   "display_name": "Python 3",
   "language": "python",
   "name": "python3"
  },
  "language_info": {
   "name": "python",
   "version": "3.10.6"
  },
  "orig_nbformat": 4
 },
 "nbformat": 4,
 "nbformat_minor": 2
}
